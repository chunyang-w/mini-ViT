{
 "cells": [
  {
   "cell_type": "code",
   "execution_count": 2,
   "metadata": {},
   "outputs": [],
   "source": [
    "%load_ext autoreload\n",
    "%autoreload 2\n",
    "\n",
    "import torch\n",
    "import torch.optim as optim\n",
    "import matplotlib.pyplot as plt\n",
    "import numpy as np\n",
    "import torch.nn as nn\n",
    "import tqdm\n",
    "import random\n",
    "import math\n",
    "\n",
    "from matplotlib.animation import FuncAnimation\n",
    "from torchvision import datasets, transforms\n",
    "from torch.utils.data import DataLoader\n",
    "from einops.layers.torch import Rearrange\n"
   ]
  },
  {
   "cell_type": "code",
   "execution_count": 8,
   "metadata": {},
   "outputs": [],
   "source": [
    "class Attention(nn.Module):\n",
    "    \"\"\"Attention with scaled (default) dot-product matrix multiplication.\n",
    "    \"\"\"\n",
    "    def __init__(self):\n",
    "        super(Attention, self).__init__()\n",
    "\n",
    "    def forward(self, k, q, v, scale=None, return_score=False, dropout=0.0):\n",
    "        \"\"\"\n",
    "        perform forward pass of attention layer\n",
    "        output = ( q @ k.T / sqrt(d) ) @ V\n",
    "        Args:\n",
    "            k: of size (B, Ls, dk). or (B, n_head, Ls, dk) (if multi-head calculation is involved)\n",
    "            q: of size (B, Ls, dk). or (B, n_head, Ls, dk) (if multi-head calculation is involved)\n",
    "            v: of size (B, Ls, dv). or (B, n_head, Ls, dk) (if multi-head calculation is involved)\n",
    "            scale: Defaults to None. if specified, will scale the attention score with this value before feed into softmax.\n",
    "        \"\"\"\n",
    "        # Dropout layer\n",
    "        dropout_layer = nn.Dropout(dropout)\n",
    "        # scale = 1 / sqrt(dk)\n",
    "        scale = scale if scale is not None else 1 / math.sqrt(k.shape[-1])\n",
    "        # atten_score: shape of (Ls, Ls), where Ls is the length of source/input sequence\n",
    "        atten_score = scale * (\n",
    "            q @ k.transpose(-1, -2)\n",
    "        )\n",
    "        atten_score = torch.nn.functional.softmax(atten_score, dim=-1)\n",
    "        # Apply dropout\n",
    "        atten_score = dropout_layer(atten_score)\n",
    "        # attention: shape of (Ls, dv)\n",
    "        attention = atten_score @ v\n",
    "        return attention if not return_score else (attention, atten_score)"
   ]
  },
  {
   "cell_type": "code",
   "execution_count": 9,
   "metadata": {},
   "outputs": [
    {
     "name": "stdout",
     "output_type": "stream",
     "text": [
      "torch.Size([16, 10, 64])\n"
     ]
    }
   ],
   "source": [
    "# Test attention layer\n",
    "\n",
    "atten_layer = Attention()\n",
    "\n",
    "bs = 16\n",
    "n_head = 8\n",
    "dk = 512\n",
    "dv = 64\n",
    "Ls = 10\n",
    "\n",
    "k = torch.randn((bs, Ls, dk))\n",
    "q = torch.randn((bs, Ls, dk))\n",
    "v = torch.randn((bs, Ls, dv))\n",
    "\n",
    "attn = atten_layer(k, q, v)\n",
    "print(attn.shape)"
   ]
  },
  {
   "cell_type": "code",
   "execution_count": 10,
   "metadata": {},
   "outputs": [
    {
     "name": "stdout",
     "output_type": "stream",
     "text": [
      "torch.Size([16, 8, 10, 64])\n"
     ]
    }
   ],
   "source": [
    "# Test attention layer, multi-head version\n",
    "\n",
    "atten_layer = Attention()\n",
    "\n",
    "bs = 16\n",
    "n_head = 8\n",
    "dk = 512\n",
    "dv = 64\n",
    "Ls = 10\n",
    "\n",
    "k = torch.randn((bs, n_head, Ls,  dk))\n",
    "q = torch.randn((bs, n_head, Ls, dk))\n",
    "v = torch.randn((bs, n_head, Ls, dv))\n",
    "\n",
    "attn = atten_layer(k, q, v)\n",
    "print(attn.shape)"
   ]
  },
  {
   "cell_type": "code",
   "execution_count": 13,
   "metadata": {},
   "outputs": [],
   "source": [
    "class MultiheadAttention(nn.Module):\n",
    "    \"\"\"\n",
    "    Multihead Self-Attention implementation:\n",
    "\n",
    "    1. Use Linear Layer to project q, k, v to hidden dimension.\n",
    "    2. Split those projected q, k, v tensors into smaller chunks. (That's why hidden dimension size should be divisible by num_head)\n",
    "    3. Apply attention layer to those mini-chunks. (This is the multihead part).\n",
    "    4. Concatenate those processed mini-chunks, return this as the final output.\n",
    "    \"\"\"\n",
    "    def __init__(self, n_emb, n_head=8, bias=False, return_atten=False, dropout=0.0):\n",
    "        \"\"\"\n",
    "        Args:\n",
    "            n_emb (int): The dimension of token embedding.\n",
    "            num_head (int): The number of heads used in the attention mechanism.\n",
    "            return_atten (bool): Whether or not to return attention score.\n",
    "        \"\"\"\n",
    "        super(MultiheadAttention, self).__init__()\n",
    "        assert n_emb % n_head == 0\n",
    "        self.dropout = dropout\n",
    "        self.n_emb = n_emb\n",
    "        self.n_head = n_head\n",
    "        self.return_atten = return_atten\n",
    "        # The number of small chunk, head_dim:\n",
    "        self.head_dim = n_emb // n_head\n",
    "        # Matrix (Linear layers are essentially Matrix plus a bais) used to project q, k and v\n",
    "        self.q_proj = nn.Linear(n_emb, n_emb, bias=bias)\n",
    "        self.k_proj = nn.Linear(n_emb, n_emb, bias=bias)\n",
    "        self.v_proj = nn.Linear(n_emb, n_emb, bias=bias)\n",
    "        # Matrix used to project the output into\n",
    "        self.out_proj = nn.Linear(n_emb, n_emb, bias=bias)\n",
    "        # Dropout layer after attention computation:\n",
    "        self.dropout_layer = nn.Dropout(dropout)\n",
    "\n",
    "    def forward(self, q, k, v):\n",
    "        \"\"\"\n",
    "        Forward Pass of Multihead attention block:\n",
    "\n",
    "        Args:\n",
    "            q, k, v (torch.Tensor): of shape (batch_size, seq_length, n_emb).\\\n",
    "                The embedding dim of q, k, v is the same (equal to n_emb)\\\n",
    "                this is a simplyfied implementation. In more complexed cases\\\n",
    "                where other type of attention (e.g. cross-attention) is needed,\\\n",
    "                this version may not suffice the need.\n",
    "        \"\"\"\n",
    "        bs, seq_len, n_emb = q.shape\n",
    "        assert n_emb == self.n_emb  # integrity double-check, you can never be too cautious!\n",
    "        # First use 3 Matrix (Linear Layer) to project q, k, v.\n",
    "        q_p = self.q_proj(q)\n",
    "        k_p = self.k_proj(k)\n",
    "        v_p = self.v_proj(v)\n",
    "\n",
    "        # After projection, q_p, k_p, and v_p has the same shape: (batch_size, seq_length, n_emb)\n",
    "        # split them into smaller chunks (this is the multihead part!)\n",
    "        q_p = q_p.view(bs, seq_len, self.n_head, self.head_dim)\n",
    "        k_p = k_p.view(bs, seq_len, self.n_head, self.head_dim)\n",
    "        v_p = v_p.view(bs, seq_len, self.n_head, self.head_dim)\n",
    "\n",
    "        # Then permute the dimension (batch_size, seq_length, n_head, head_dim) -> (batch_size, n_head, seq_length, head_dim)\n",
    "        # Because we do not want n_head dimension be involved in the attention calculation\n",
    "        #   i.e. each data along n_head dimension should be treated as a individual seuqence.\n",
    "        #   i.e. this is the meaning of multi-head processing.\n",
    "        \n",
    "        q_p = q_p.transpose(1, 2)\n",
    "        k_p = k_p.transpose(1, 2)\n",
    "        v_p = v_p.transpose(1, 2)\n",
    "\n",
    "        # The attention part!\n",
    "        attention_layer = Attention()\n",
    "        # Perform attention calculation. the output size should be (batch_size, n_head, seq_length, head_dim)\n",
    "        atten = attention_layer(q_p, k_p, v_p, dropout=self.dropout)\n",
    "        if self.return_atten:\n",
    "            atten_score = attention_layer(q_p, k_p, v_p, return_score=True)\n",
    "        # reshape the attention ouput, back to shape of (batch_size, n_head, seq_length, head_dim)\n",
    "        # The .contiguos() method is used to address incontiguous memory introduced by transpose methods\n",
    "        #   P.S. the .view() method won't work without this operation.\n",
    "        atten = atten.transpose(1, 2).contiguous().view(bs, seq_len, n_emb)\n",
    "        # going through the last layer: another linear transformation:\n",
    "        out = self.out_proj(atten)\n",
    "        out = self.dropout_layer(out)\n",
    "        return out if not self.return_atten else (out, atten_score)"
   ]
  },
  {
   "cell_type": "code",
   "execution_count": 14,
   "metadata": {},
   "outputs": [
    {
     "name": "stdout",
     "output_type": "stream",
     "text": [
      "input shape:  torch.Size([16, 10, 512])\n",
      "output shape torch.Size([16, 10, 512])\n"
     ]
    }
   ],
   "source": [
    "bs = 16\n",
    "n_head = 8\n",
    "n_emb = 512\n",
    "dv = 64\n",
    "Ls = 10\n",
    "\n",
    "multihead_atten_layer = MultiheadAttention(n_emb=n_emb, n_head=8)\n",
    "\n",
    "x = torch.randn((bs, Ls,  n_emb))\n",
    "print(\"input shape: \", x.shape)\n",
    "\n",
    "out = multihead_atten_layer(x,x,x)\n",
    "print(\"output shape\", out.shape)"
   ]
  },
  {
   "cell_type": "code",
   "execution_count": 18,
   "metadata": {},
   "outputs": [],
   "source": [
    "class Transformer(nn.Module):\n",
    "    \"\"\"\n",
    "    Transformer Implementation.\n",
    "\n",
    "    This layer will stack several multi-head attention layer with Linear Projection Layer \\\n",
    "        with residual connection and layer norm.\n",
    "    The input should be of shape (batch_size, seq_length, n_in)\n",
    "    The ouput will be of shape   (batch_size, seq_length, n_out)\n",
    "\n",
    "    Args:\n",
    "        n_in        (int):  Input dimension.\n",
    "        n_out       (int):  Output dimension.\n",
    "        n_model     (int):  Model embedding dimension.\n",
    "        num_layer   (int):  Number of transformer blocks will be stacked together.\n",
    "        bias        (bool): Whether or bias will be added to linear projection or not.\n",
    "    \"\"\"\n",
    "    def __init__(self, n_in, n_out, n_model, num_layer=6, bias=False):\n",
    "        super(Transformer, self).__init__()\n",
    "        # Parameters setup\n",
    "        self.n_model = n_model\n",
    "        self.num_layer = num_layer\n",
    "        self.bias=bias\n",
    "        # layer lists: each transfomer block layer has: \n",
    "        #   + 1 multi-head attention layer\n",
    "        #   + 1 linear layer\n",
    "        #   + 2 layernorm layer\n",
    "        self.linear_layers = [nn.Linear(n_model, n_model) for i in range(num_layer)]\n",
    "        self.atten_layers = [MultiheadAttention(n_model) for i in range(num_layer)]\n",
    "        self.layernorm1 = [nn.LayerNorm(n_model) for i in range(num_layer)]\n",
    "        self.layernorm2 = [nn.LayerNorm(n_model) for i in range(num_layer)]\n",
    "        # Activation func:\n",
    "        self.act = nn.GELU()\n",
    "        # input & output projection\n",
    "        self.linear_in = nn.Linear(n_in, n_model)\n",
    "        self.linear_out = nn.Linear(n_model, n_out)\n",
    "        \n",
    "\n",
    "    def transformer_block(self, x, layer_idx):\n",
    "        \"\"\"\n",
    "        Transfomer block\n",
    "\n",
    "        input is of shape (batch_size, seq_length, n_model)\n",
    "        \"\"\"\n",
    "        atten_layer = self.atten_layers[layer_idx]\n",
    "        layernorm1 = self.layernorm1[layer_idx]\n",
    "        linear_layer = self.linear_layers[layer_idx]\n",
    "        layernorm2 = self.layernorm2[layer_idx]\n",
    "\n",
    "        # First go thru attention layer:\n",
    "        residual_atten = atten_layer(x, x, x)  # Q, K, V are the same - self-attention part\n",
    "        x = x + residual_atten                 # Residual connection\n",
    "        x = layernorm1(x)\n",
    "        # Then go thru linear layer:\n",
    "        residual_linear = linear_layer(x)\n",
    "        x = self.act(x)\n",
    "        x = x + residual_linear\n",
    "        x = layernorm2(x)\n",
    "\n",
    "        return x\n",
    "\n",
    "    def forward(self, x):\n",
    "        x = self.linear_in(x)\n",
    "        for idx in range(self.num_layer):\n",
    "            x = self.transformer_block(x, idx)\n",
    "        x = self.linear_out(x)\n",
    "        return x"
   ]
  },
  {
   "cell_type": "code",
   "execution_count": 22,
   "metadata": {},
   "outputs": [
    {
     "name": "stdout",
     "output_type": "stream",
     "text": [
      "input shape:  torch.Size([16, 10, 512])\n",
      "output shape torch.Size([16, 10, 512])\n"
     ]
    }
   ],
   "source": [
    "# Test transformer\n",
    "\n",
    "bs = 16\n",
    "n_head = 8\n",
    "n_in = 512\n",
    "n_model = 512\n",
    "n_out = 512\n",
    "dv = 64\n",
    "Ls = 10\n",
    "\n",
    "transformer = Transformer(\n",
    "    n_in = n_in,\n",
    "    n_out = n_out,\n",
    "    n_model = n_model,\n",
    ")\n",
    "\n",
    "x = torch.randn((bs, Ls,  n_in))\n",
    "print(\"input shape: \", x.shape)\n",
    "\n",
    "out = transformer(x)\n",
    "print(\"output shape\", out.shape)"
   ]
  },
  {
   "cell_type": "code",
   "execution_count": null,
   "metadata": {},
   "outputs": [],
   "source": [
    "# Vit block\n",
    "\n",
    "class ViT(nn.Module):\n",
    "    \"\"\"\n",
    "    A Simple ViT implementation.\n",
    "    The input is of shape: (batch_size, channel, H, W)\n",
    "    1. Patch the image into patches.\n",
    "    2. Compute Patch embedding (batch_size, seq_len, n_emb)\n",
    "    3. Attach class embedding.\n",
    "    4. Attach positional embedding.\n",
    "    5. Go thru Transformer.\n",
    "    6. Linear Projection layer.\n",
    "    \"\"\"\n",
    "    def __init__(self, img_h, img_w, num_class, patch_size, dim, num_channel=3):\n",
    "        \"\"\"\n",
    "        Args:\n",
    "            img_h, img_w (int):         Height & Width of the input image.\n",
    "            num_class    (int):         Number of total classes in the dataset.\n",
    "            patch_size   (int):         The size of the patch window.\n",
    "            dim          (int):         The dimension of which the model operates on.\n",
    "            num_channel  (int):         The number of channels of the input image.\n",
    "        \"\"\"\n",
    "        super(ViT, self).__init__()\n",
    "        assert (img_h % patch_size == 0 and img_w % patch_size == 0)\n",
    "        patch_h, patch_w = img_h // patch_size, img_w // patch_size\n",
    "        num_patch = patch_h * patch_w * num_channel\n",
    "        self.to_patch_embedding = nn.Sequential(\n",
    "            Rearrange('b c (h p1) (w p2) -> b (h w) (p1 p2 c)', p1 = patch_h, p2 = patch_w),\n",
    "            nn.LayerNorm(num_patch),\n",
    "            nn.Linear(num_patch, dim),\n",
    "            nn.LayerNorm(dim),\n",
    "        )\n",
    "        \n",
    "        pass\n",
    "\n",
    "    def forward(self, x):\n",
    "        pass"
   ]
  },
  {
   "cell_type": "code",
   "execution_count": 24,
   "metadata": {},
   "outputs": [],
   "source": [
    "shuffle = True\n",
    "bs = 64\n",
    "\n",
    "class GrayscaleToRGB(object):\n",
    "    \"\"\"Convert a 1-channel grayscale image to a 3-channel RGB image.\"\"\"\n",
    "    def __call__(self, img):\n",
    "        \"\"\"\n",
    "        Args:\n",
    "            img (PIL Image or Tensor): Grayscale image to be converted to RGB.\n",
    "\n",
    "        Returns:\n",
    "            PIL Image or Tensor: RGB image with three channels.\n",
    "        \"\"\"\n",
    "        return img.convert(\"RGB\")\n",
    "\n",
    "transform = transforms.Compose([\n",
    "                                transforms.ToTensor(),\n",
    "                                ])\n",
    "\n",
    "train_set = datasets.MNIST(root=\".\", train=True, download=True, transform=transform)\n",
    "test_set = datasets.MNIST(root=\".\", train=False, download=True, transform=transform)\n",
    "\n",
    "train_loader = DataLoader(train_set, batch_size=bs, shuffle=shuffle)\n",
    "test_loader = DataLoader(test_set, batch_size=bs, shuffle=shuffle)"
   ]
  },
  {
   "cell_type": "code",
   "execution_count": 25,
   "metadata": {},
   "outputs": [
    {
     "name": "stdout",
     "output_type": "stream",
     "text": [
      "torch.Size([1, 28, 28])\n"
     ]
    }
   ],
   "source": [
    "sample, label = train_set[0]\n",
    "print(sample.shape)"
   ]
  },
  {
   "cell_type": "code",
   "execution_count": 6,
   "metadata": {},
   "outputs": [],
   "source": [
    "class kk(nn.Module):\n",
    "    def __init__(self):\n",
    "        super(kk, self).__init__()\n",
    "\n",
    "    def forward(self, x):\n",
    "        x = x.view(-1, 28*28, 1)  # Flatten the input image\n",
    "        x = torch.relu(self.fc1(x))\n",
    "        x = torch.relu(self.fc2(x))\n",
    "        x = self.fc3(x)\n",
    "        return x"
   ]
  },
  {
   "cell_type": "code",
   "execution_count": 7,
   "metadata": {},
   "outputs": [],
   "source": [
    "model = kk()\n",
    "criterion = nn.CrossEntropyLoss()  # Cross-entropy loss for classification\n",
    "optimizer = optim.Adam(model.parameters(), lr=0.001)  # Adam optimizer\n"
   ]
  },
  {
   "cell_type": "code",
   "execution_count": 8,
   "metadata": {},
   "outputs": [
    {
     "name": "stdout",
     "output_type": "stream",
     "text": [
      "Epoch [1/5], Loss: 0.2351\n",
      "Epoch [2/5], Loss: 0.0873\n",
      "Epoch [3/5], Loss: 0.0568\n",
      "Epoch [4/5], Loss: 0.0394\n",
      "Epoch [5/5], Loss: 0.0327\n"
     ]
    }
   ],
   "source": [
    "def train(model, train_loader, criterion, optimizer, num_epochs=5):\n",
    "    model.train()  # Set the model to training mode\n",
    "    for epoch in range(num_epochs):\n",
    "        running_loss = 0.0\n",
    "        for images, labels in train_loader:\n",
    "            optimizer.zero_grad()  # Zero the gradients\n",
    "\n",
    "            # Forward pass\n",
    "            outputs = model(images)\n",
    "            loss = criterion(outputs, labels)\n",
    "\n",
    "            # Backward pass and optimization\n",
    "            loss.backward()\n",
    "            optimizer.step()\n",
    "\n",
    "            running_loss += loss.item()\n",
    "\n",
    "        print(f\"Epoch [{epoch+1}/{num_epochs}], Loss: {running_loss/len(train_loader):.4f}\")\n",
    "\n",
    "# Train the model\n",
    "train(model, train_loader, criterion, optimizer, num_epochs=5)\n"
   ]
  },
  {
   "cell_type": "code",
   "execution_count": 9,
   "metadata": {},
   "outputs": [
    {
     "name": "stdout",
     "output_type": "stream",
     "text": [
      "Accuracy of the model on the test images: 97.87%\n"
     ]
    }
   ],
   "source": [
    "def evaluate(model, test_loader):\n",
    "    model.eval()  # Set the model to evaluation mode\n",
    "    correct = 0\n",
    "    total = 0\n",
    "    with torch.no_grad():  # Disable gradient computation for evaluation\n",
    "        for images, labels in test_loader:\n",
    "            outputs = model(images)\n",
    "            _, predicted = torch.max(outputs.data, 1)\n",
    "            total += labels.size(0)\n",
    "            correct += (predicted == labels).sum().item()\n",
    "\n",
    "    print(f'Accuracy of the model on the test images: {100 * correct / total:.2f}%')\n",
    "\n",
    "# Evaluate the model\n",
    "evaluate(model, test_loader)\n"
   ]
  },
  {
   "cell_type": "code",
   "execution_count": 41,
   "metadata": {},
   "outputs": [
    {
     "name": "stdout",
     "output_type": "stream",
     "text": [
      "Prediction: \t2, label: \t2\n"
     ]
    },
    {
     "data": {
      "image/png": "[encoded data removed]",
      "text/plain": [
       "<Figure size 640x480 with 1 Axes>"
      ]
     },
     "metadata": {},
     "output_type": "display_data"
    }
   ],
   "source": [
    "def visualize(model, dataset, idx=None):\n",
    "    if idx is None:\n",
    "        idx = random.randint(0, len(dataset))\n",
    "    data, label = dataset[idx]\n",
    "    plt.imshow(data.squeeze(), cmap=\"grey\")\n",
    "    pred = model(data)\n",
    "    pred = torch.max(pred.data, 1).indices[0]\n",
    "    print(f\"Prediction: \\t{pred}, label: \\t{label}\")\n",
    "\n",
    "visualize(model, test_set)"
   ]
  },
  {
   "cell_type": "code",
   "execution_count": null,
   "metadata": {},
   "outputs": [],
   "source": []
  }
 ],
 "metadata": {
  "kernelspec": {
   "display_name": "base",
   "language": "python",
   "name": "python3"
  },
  "language_info": {
   "codemirror_mode": {
    "name": "ipython",
    "version": 3
   },
   "file_extension": ".py",
   "mimetype": "text/x-python",
   "name": "python",
   "nbconvert_exporter": "python",
   "pygments_lexer": "ipython3",
   "version": "3.12.3"
  }
 },
 "nbformat": 4,
 "nbformat_minor": 2
}
